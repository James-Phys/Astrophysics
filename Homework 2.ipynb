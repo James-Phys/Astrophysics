{
 "cells": [
  {
   "cell_type": "markdown",
   "id": "da6db7c9",
   "metadata": {},
   "source": [
    "# Problem Set 2\n",
    "## *James Katz*"
   ]
  },
  {
   "cell_type": "markdown",
   "id": "05080f01",
   "metadata": {},
   "source": [
    "-----------------"
   ]
  },
  {
   "cell_type": "markdown",
   "id": "7b53aa60",
   "metadata": {},
   "source": [
    "## Studying the Galaxy with Globular Clusters"
   ]
  },
  {
   "cell_type": "markdown",
   "id": "e0fb16b2",
   "metadata": {},
   "source": [
    "Download the list of (real!) data for globular clusters, “gc.dat.txt” which gives: \n",
    "* angular coordinates of each cluster in galactic coordinates $(l,b)$\n",
    "* distance from the Sun, R, in kilo-parsecs\n",
    "* metallicity of the globular cluster, [Fe/H]. If [Fe/H] = 999, means there is no measurement.\n",
    "* observed radial velocity of the cluster $V_r$ in km/s. ($V_r$ = 999) means no measurement\n",
    "Note that the angular Galactic coordinates ( ) are the angular position measured from our\n",
    "viewing position at the Sun. You will need to transform the observed data to cartesian\n",
    "coordinates (X,Y,Z) where +X points toward the Galactic center (l=0), +Y points in the direction\n",
    "of rotation (l=90), and +Z points above the plane (b>0). Defined this way, we have\n",
    "* $X = Rcos(l)cos(b)$\n",
    "* $Y = Rsin(l)cos(b)$\n",
    "* $Z = Rsin(b)$\n",
    "Be careful with trig functions when coding! numpy trig functions assume angles are given in\n",
    "radians, not degrees. But the data file lists angles in degrees, so you must convert. So\n",
    "Z=R*np.sin(b) would be incorrect, but Z=R*np.sin(np.radians(b)) will work."
   ]
  },
  {
   "cell_type": "code",
   "execution_count": 2,
   "id": "e8745d5b",
   "metadata": {},
   "outputs": [],
   "source": [
    "import numpy as np\n",
    "import pandas as pd\n",
    "import matplotlib.pyplot as plt"
   ]
  },
  {
   "cell_type": "code",
   "execution_count": 15,
   "id": "580d2187",
   "metadata": {},
   "outputs": [
    {
     "name": "stderr",
     "output_type": "stream",
     "text": [
      "C:\\Users\\James\\AppData\\Local\\Temp\\ipykernel_10428\\2964134693.py:1: ParserWarning: Falling back to the 'python' engine because the 'c' engine does not support regex separators (separators > 1 char and different from '\\s+' are interpreted as regex); you can avoid this warning by specifying engine='python'.\n",
      "  df=pd.read_csv('gc.dat.txt',sep=r\"\\s{2,}\")\n"
     ]
    },
    {
     "data": {
      "text/plain": [
       "1     305.9\n",
       "2     152.3\n",
       "3     301.5\n",
       "4     270.5\n",
       "5     130.1\n",
       "6     258.4\n",
       "7     218.1\n",
       "8     170.5\n",
       "9     244.5\n",
       "10    227.2\n",
       "11    245.6\n",
       "12    180.4\n",
       "13    261.3\n",
       "14    282.2\n",
       "15    292.3\n",
       "16    240.1\n",
       "17    277.2\n",
       "18    202.3\n",
       "19    252.9\n",
       "20      301\n",
       "21    300.9\n",
       "22    299.6\n",
       "23    303.6\n",
       "24      333\n",
       "25    335.7\n",
       "26    309.1\n",
       "27    42.21\n",
       "28    311.6\n",
       "29    320.1\n",
       "30    42.15\n",
       "31    342.2\n",
       "32    331.1\n",
       "33    307.3\n",
       "34    332.5\n",
       "35     0.85\n",
       "36    342.9\n",
       "37     3.86\n",
       "38    326.6\n",
       "39    327.6\n",
       "40    328.4\n",
       "41      337\n",
       "42    328.8\n",
       "43    28.75\n",
       "44    352.7\n",
       "45      351\n",
       "46    317.7\n",
       "47    351.9\n",
       "48    342.4\n",
       "49    345.1\n",
       "50     3.37\n",
       "Name: l, dtype: object"
      ]
     },
     "execution_count": 15,
     "metadata": {},
     "output_type": "execute_result"
    }
   ],
   "source": [
    "df=pd.read_csv('gc.dat.txt',sep=r\"\\s{2,}\")\n",
    "df = df.drop(['vr'],axis=1)\n",
    "df = df.drop(0,axis = 0)\n",
    "df.columns = ['l','b','r','feh','vr']\n",
    "df['l'].head(50)"
   ]
  },
  {
   "cell_type": "markdown",
   "id": "a65bb839",
   "metadata": {},
   "source": [
    "1. Calculate and plot the X,Y,Z positions to get a feel for the distribution of globular clusters in the Galaxy. Plot the X-Y and X-Z projections so that you can see how things are distributed along each axis. \n",
    "\n",
    "a. make X-Y and X-Z plots for the metal-poor global clusters with [Fe/H]<-0.8\n",
    "\n",
    "b. Make the same plot for the metal-rich globular clusters with [Fe/H] > -0.8\n",
    "\n",
    "c. Explain how the two distributions are different.\n"
   ]
  },
  {
   "cell_type": "code",
   "execution_count": 4,
   "id": "cb2a4cdd",
   "metadata": {},
   "outputs": [
    {
     "data": {
      "text/html": [
       "<div>\n",
       "<style scoped>\n",
       "    .dataframe tbody tr th:only-of-type {\n",
       "        vertical-align: middle;\n",
       "    }\n",
       "\n",
       "    .dataframe tbody tr th {\n",
       "        vertical-align: top;\n",
       "    }\n",
       "\n",
       "    .dataframe thead th {\n",
       "        text-align: right;\n",
       "    }\n",
       "</style>\n",
       "<table border=\"1\" class=\"dataframe\">\n",
       "  <thead>\n",
       "    <tr style=\"text-align: right;\">\n",
       "      <th></th>\n",
       "      <th>l</th>\n",
       "      <th>b</th>\n",
       "      <th>r</th>\n",
       "      <th>feh</th>\n",
       "      <th>vr</th>\n",
       "      <th>l_rad</th>\n",
       "      <th>b_rad</th>\n",
       "      <th>X</th>\n",
       "      <th>Y</th>\n",
       "      <th>Z</th>\n",
       "    </tr>\n",
       "  </thead>\n",
       "  <tbody>\n",
       "    <tr>\n",
       "      <th>1</th>\n",
       "      <td>305.9</td>\n",
       "      <td>-44.89</td>\n",
       "      <td>4.3</td>\n",
       "      <td>-0.76</td>\n",
       "      <td>-18.7</td>\n",
       "      <td>5.338962</td>\n",
       "      <td>-0.783478</td>\n",
       "      <td>-1.043618</td>\n",
       "      <td>-2.432475</td>\n",
       "      <td>2.646898</td>\n",
       "    </tr>\n",
       "    <tr>\n",
       "      <th>2</th>\n",
       "      <td>152.3</td>\n",
       "      <td>-89.38</td>\n",
       "      <td>8.1</td>\n",
       "      <td>-1.24</td>\n",
       "      <td>-46.6</td>\n",
       "      <td>2.658136</td>\n",
       "      <td>-1.559975</td>\n",
       "      <td>0.084234</td>\n",
       "      <td>1.250772</td>\n",
       "      <td>1.253605</td>\n",
       "    </tr>\n",
       "    <tr>\n",
       "      <th>3</th>\n",
       "      <td>301.5</td>\n",
       "      <td>-46.25</td>\n",
       "      <td>8.3</td>\n",
       "      <td>-1.16</td>\n",
       "      <td>223.5</td>\n",
       "      <td>5.262168</td>\n",
       "      <td>-0.807215</td>\n",
       "      <td>-5.304374</td>\n",
       "      <td>0.494171</td>\n",
       "      <td>-5.327343</td>\n",
       "    </tr>\n",
       "    <tr>\n",
       "      <th>4</th>\n",
       "      <td>270.5</td>\n",
       "      <td>-52.13</td>\n",
       "      <td>16.0</td>\n",
       "      <td>-1.35</td>\n",
       "      <td>68.2</td>\n",
       "      <td>4.721116</td>\n",
       "      <td>-0.909840</td>\n",
       "      <td>-4.392665</td>\n",
       "      <td>-1.470478</td>\n",
       "      <td>-4.632257</td>\n",
       "    </tr>\n",
       "    <tr>\n",
       "      <th>5</th>\n",
       "      <td>130.1</td>\n",
       "      <td>19.03</td>\n",
       "      <td>9.7</td>\n",
       "      <td>-0.80</td>\n",
       "      <td>999.0</td>\n",
       "      <td>2.270673</td>\n",
       "      <td>0.332136</td>\n",
       "      <td>-2.601296</td>\n",
       "      <td>-9.181110</td>\n",
       "      <td>9.542512</td>\n",
       "    </tr>\n",
       "  </tbody>\n",
       "</table>\n",
       "</div>"
      ],
      "text/plain": [
       "       l      b     r   feh     vr     l_rad     b_rad         X         Y  \\\n",
       "1  305.9 -44.89   4.3 -0.76  -18.7  5.338962 -0.783478 -1.043618 -2.432475   \n",
       "2  152.3 -89.38   8.1 -1.24  -46.6  2.658136 -1.559975  0.084234  1.250772   \n",
       "3  301.5 -46.25   8.3 -1.16  223.5  5.262168 -0.807215 -5.304374  0.494171   \n",
       "4  270.5 -52.13  16.0 -1.35   68.2  4.721116 -0.909840 -4.392665 -1.470478   \n",
       "5  130.1  19.03   9.7 -0.80  999.0  2.270673  0.332136 -2.601296 -9.181110   \n",
       "\n",
       "          Z  \n",
       "1  2.646898  \n",
       "2  1.253605  \n",
       "3 -5.327343  \n",
       "4 -4.632257  \n",
       "5  9.542512  "
      ]
     },
     "execution_count": 4,
     "metadata": {},
     "output_type": "execute_result"
    }
   ],
   "source": [
    "df['l_rad'] = df['l'].astype(float) * np.pi /180\n",
    "df['b_rad'] = df['b'].astype(float) * np.pi /180\n",
    "df['X'] = df['r']*np.cos(df['l'].astype(float))*np.cos(df['b'].astype(float))\n",
    "df['Y'] = df['r']*np.sin(df['l'].astype(float))*np.cos(df['b'].astype(float))\n",
    "df['Z'] = df['r']*np.cos(df['b'].astype(float))\n",
    "df.head()"
   ]
  },
  {
   "cell_type": "code",
   "execution_count": 5,
   "id": "34a9213f",
   "metadata": {},
   "outputs": [
    {
     "name": "stdout",
     "output_type": "stream",
     "text": [
      "1050\n"
     ]
    },
    {
     "data": {
      "text/html": [
       "<div>\n",
       "<style scoped>\n",
       "    .dataframe tbody tr th:only-of-type {\n",
       "        vertical-align: middle;\n",
       "    }\n",
       "\n",
       "    .dataframe tbody tr th {\n",
       "        vertical-align: top;\n",
       "    }\n",
       "\n",
       "    .dataframe thead th {\n",
       "        text-align: right;\n",
       "    }\n",
       "</style>\n",
       "<table border=\"1\" class=\"dataframe\">\n",
       "  <thead>\n",
       "    <tr style=\"text-align: right;\">\n",
       "      <th></th>\n",
       "      <th>l</th>\n",
       "      <th>b</th>\n",
       "      <th>r</th>\n",
       "      <th>feh</th>\n",
       "      <th>vr</th>\n",
       "      <th>l_rad</th>\n",
       "      <th>b_rad</th>\n",
       "      <th>X</th>\n",
       "      <th>Y</th>\n",
       "      <th>Z</th>\n",
       "    </tr>\n",
       "  </thead>\n",
       "  <tbody>\n",
       "    <tr>\n",
       "      <th>2</th>\n",
       "      <td>152.3</td>\n",
       "      <td>-89.38</td>\n",
       "      <td>8.1</td>\n",
       "      <td>-1.24</td>\n",
       "      <td>-46.6</td>\n",
       "      <td>2.658136</td>\n",
       "      <td>-1.559975</td>\n",
       "      <td>0.084234</td>\n",
       "      <td>1.250772</td>\n",
       "      <td>1.253605</td>\n",
       "    </tr>\n",
       "    <tr>\n",
       "      <th>3</th>\n",
       "      <td>301.5</td>\n",
       "      <td>-46.25</td>\n",
       "      <td>8.3</td>\n",
       "      <td>-1.16</td>\n",
       "      <td>223.5</td>\n",
       "      <td>5.262168</td>\n",
       "      <td>-0.807215</td>\n",
       "      <td>-5.304374</td>\n",
       "      <td>0.494171</td>\n",
       "      <td>-5.327343</td>\n",
       "    </tr>\n",
       "    <tr>\n",
       "      <th>4</th>\n",
       "      <td>270.5</td>\n",
       "      <td>-52.13</td>\n",
       "      <td>16.0</td>\n",
       "      <td>-1.35</td>\n",
       "      <td>68.2</td>\n",
       "      <td>4.721116</td>\n",
       "      <td>-0.909840</td>\n",
       "      <td>-4.392665</td>\n",
       "      <td>-1.470478</td>\n",
       "      <td>-4.632257</td>\n",
       "    </tr>\n",
       "    <tr>\n",
       "      <th>6</th>\n",
       "      <td>258.4</td>\n",
       "      <td>-48.47</td>\n",
       "      <td>119.1</td>\n",
       "      <td>-1.80</td>\n",
       "      <td>116.0</td>\n",
       "      <td>4.509931</td>\n",
       "      <td>-0.845961</td>\n",
       "      <td>-18.688167</td>\n",
       "      <td>-18.838434</td>\n",
       "      <td>-26.535527</td>\n",
       "    </tr>\n",
       "    <tr>\n",
       "      <th>7</th>\n",
       "      <td>218.1</td>\n",
       "      <td>-41.33</td>\n",
       "      <td>80.8</td>\n",
       "      <td>-1.46</td>\n",
       "      <td>-23.6</td>\n",
       "      <td>3.806563</td>\n",
       "      <td>-0.721345</td>\n",
       "      <td>17.000533</td>\n",
       "      <td>69.263408</td>\n",
       "      <td>-71.319267</td>\n",
       "    </tr>\n",
       "  </tbody>\n",
       "</table>\n",
       "</div>"
      ],
      "text/plain": [
       "       l      b      r   feh     vr     l_rad     b_rad          X          Y  \\\n",
       "2  152.3 -89.38    8.1 -1.24  -46.6  2.658136 -1.559975   0.084234   1.250772   \n",
       "3  301.5 -46.25    8.3 -1.16  223.5  5.262168 -0.807215  -5.304374   0.494171   \n",
       "4  270.5 -52.13   16.0 -1.35   68.2  4.721116 -0.909840  -4.392665  -1.470478   \n",
       "6  258.4 -48.47  119.1 -1.80  116.0  4.509931 -0.845961 -18.688167 -18.838434   \n",
       "7  218.1 -41.33   80.8 -1.46  -23.6  3.806563 -0.721345  17.000533  69.263408   \n",
       "\n",
       "           Z  \n",
       "2   1.253605  \n",
       "3  -5.327343  \n",
       "4  -4.632257  \n",
       "6 -26.535527  \n",
       "7 -71.319267  "
      ]
     },
     "execution_count": 5,
     "metadata": {},
     "output_type": "execute_result"
    }
   ],
   "source": [
    "df_lessthan = df[(df['feh']<-0.8)]\n",
    "df_greaterthan = df[(df['feh']>-0.8) & (df['feh']!=999.00)]\n",
    "\n",
    "print(df_lessthan.size)\n",
    "df_lessthan.head()\n"
   ]
  },
  {
   "cell_type": "code",
   "execution_count": 6,
   "id": "1f87946f",
   "metadata": {},
   "outputs": [
    {
     "name": "stdout",
     "output_type": "stream",
     "text": [
      "320\n"
     ]
    },
    {
     "data": {
      "text/html": [
       "<div>\n",
       "<style scoped>\n",
       "    .dataframe tbody tr th:only-of-type {\n",
       "        vertical-align: middle;\n",
       "    }\n",
       "\n",
       "    .dataframe tbody tr th {\n",
       "        vertical-align: top;\n",
       "    }\n",
       "\n",
       "    .dataframe thead th {\n",
       "        text-align: right;\n",
       "    }\n",
       "</style>\n",
       "<table border=\"1\" class=\"dataframe\">\n",
       "  <thead>\n",
       "    <tr style=\"text-align: right;\">\n",
       "      <th></th>\n",
       "      <th>l</th>\n",
       "      <th>b</th>\n",
       "      <th>r</th>\n",
       "      <th>feh</th>\n",
       "      <th>vr</th>\n",
       "      <th>l_rad</th>\n",
       "      <th>b_rad</th>\n",
       "      <th>X</th>\n",
       "      <th>Y</th>\n",
       "      <th>Z</th>\n",
       "    </tr>\n",
       "  </thead>\n",
       "  <tbody>\n",
       "    <tr>\n",
       "      <th>1</th>\n",
       "      <td>305.9</td>\n",
       "      <td>-44.89</td>\n",
       "      <td>4.3</td>\n",
       "      <td>-0.76</td>\n",
       "      <td>-18.7</td>\n",
       "      <td>5.338962</td>\n",
       "      <td>-0.783478</td>\n",
       "      <td>-1.043618</td>\n",
       "      <td>-2.432475</td>\n",
       "      <td>2.646898</td>\n",
       "    </tr>\n",
       "    <tr>\n",
       "      <th>38</th>\n",
       "      <td>326.6</td>\n",
       "      <td>4.86</td>\n",
       "      <td>7.4</td>\n",
       "      <td>-0.37</td>\n",
       "      <td>-115.7</td>\n",
       "      <td>5.700245</td>\n",
       "      <td>0.084823</td>\n",
       "      <td>1.079781</td>\n",
       "      <td>-0.136378</td>\n",
       "      <td>1.088359</td>\n",
       "    </tr>\n",
       "    <tr>\n",
       "      <th>42</th>\n",
       "      <td>328.8</td>\n",
       "      <td>-2.79</td>\n",
       "      <td>7.0</td>\n",
       "      <td>-0.62</td>\n",
       "      <td>8.0</td>\n",
       "      <td>5.738643</td>\n",
       "      <td>-0.048695</td>\n",
       "      <td>3.171234</td>\n",
       "      <td>-5.756000</td>\n",
       "      <td>-6.571778</td>\n",
       "    </tr>\n",
       "    <tr>\n",
       "      <th>57</th>\n",
       "      <td>347.8</td>\n",
       "      <td>3.31</td>\n",
       "      <td>9.3</td>\n",
       "      <td>-0.70</td>\n",
       "      <td>999.0</td>\n",
       "      <td>6.070255</td>\n",
       "      <td>0.057770</td>\n",
       "      <td>5.577847</td>\n",
       "      <td>-7.276522</td>\n",
       "      <td>-9.168433</td>\n",
       "    </tr>\n",
       "    <tr>\n",
       "      <th>64</th>\n",
       "      <td>355.8</td>\n",
       "      <td>5.38</td>\n",
       "      <td>6.0</td>\n",
       "      <td>-0.59</td>\n",
       "      <td>-107.3</td>\n",
       "      <td>6.209881</td>\n",
       "      <td>0.093899</td>\n",
       "      <td>-2.587955</td>\n",
       "      <td>-2.664819</td>\n",
       "      <td>3.714670</td>\n",
       "    </tr>\n",
       "  </tbody>\n",
       "</table>\n",
       "</div>"
      ],
      "text/plain": [
       "        l      b    r   feh     vr     l_rad     b_rad         X         Y  \\\n",
       "1   305.9 -44.89  4.3 -0.76  -18.7  5.338962 -0.783478 -1.043618 -2.432475   \n",
       "38  326.6   4.86  7.4 -0.37 -115.7  5.700245  0.084823  1.079781 -0.136378   \n",
       "42  328.8  -2.79  7.0 -0.62    8.0  5.738643 -0.048695  3.171234 -5.756000   \n",
       "57  347.8   3.31  9.3 -0.70  999.0  6.070255  0.057770  5.577847 -7.276522   \n",
       "64  355.8   5.38  6.0 -0.59 -107.3  6.209881  0.093899 -2.587955 -2.664819   \n",
       "\n",
       "           Z  \n",
       "1   2.646898  \n",
       "38  1.088359  \n",
       "42 -6.571778  \n",
       "57 -9.168433  \n",
       "64  3.714670  "
      ]
     },
     "execution_count": 6,
     "metadata": {},
     "output_type": "execute_result"
    }
   ],
   "source": [
    "print(df_greaterthan.size)\n",
    "df_greaterthan.head()"
   ]
  },
  {
   "cell_type": "code",
   "execution_count": 7,
   "id": "6f8dafaf",
   "metadata": {},
   "outputs": [
    {
     "data": {
      "image/png": "[encoded data removed]",
      "text/plain": [
       "<Figure size 640x480 with 1 Axes>"
      ]
     },
     "metadata": {},
     "output_type": "display_data"
    }
   ],
   "source": [
    "plt.scatter(df_lessthan['X'],df_lessthan['Y'],color='r',label='[Fe/H]<-0.8')\n",
    "plt.scatter(df_greaterthan['X'],df_greaterthan['Y'],color='m',label='[Fe/H]>-0.8')\n",
    "plt.title('Coordinate X vs Y')\n",
    "plt.xlabel('X [pc]')\n",
    "plt.ylabel('Y [pc]')\n",
    "plt.legend()\n",
    "plt.show()"
   ]
  },
  {
   "cell_type": "code",
   "execution_count": 8,
   "id": "3c8e984e",
   "metadata": {
    "scrolled": true
   },
   "outputs": [
    {
     "data": {
      "image/png": "[encoded data removed]",
      "text/plain": [
       "<Figure size 640x480 with 1 Axes>"
      ]
     },
     "metadata": {},
     "output_type": "display_data"
    }
   ],
   "source": [
    "plt.scatter(df_lessthan['X'],df_lessthan['Z'],color='r',label='[Fe/H]<-0.8')\n",
    "plt.scatter(df_greaterthan['X'],df_greaterthan['Z'],color='m',label='[Fe/H]>-0.8')\n",
    "plt.title('Coordinate X vs Z')\n",
    "plt.xlabel('X [pc]')\n",
    "plt.ylabel('Z [pc]')\n",
    "plt.legend()\n",
    "plt.show()"
   ]
  },
  {
   "cell_type": "markdown",
   "id": "732fe8d8",
   "metadata": {},
   "source": [
    "### How these distributions are different:\n",
    "\n",
    "The X-Y axis gives us an overview head of our galaxy, centered at the sun.  The X-Z axis gives us a cross-section view of our galaxy, centered at the sun.\n",
    "\n",
    "---------------------"
   ]
  },
  {
   "cell_type": "markdown",
   "id": "266f8092",
   "metadata": {},
   "source": [
    "2. Now, in the 1910s, Harlow Shapley derived the distance to the Galactic Center by using the positions of the globular clusters. Now it's your turn:\n",
    "\n",
    "a. What is the (X,Y,Z) center of the metal-poor globular cluster system? How far, then, is\n",
    "the Galactic Center?\n",
    "\n",
    "b. What is the (X,Y,Z) center of the metal-rich globular cluster system? How far, then, is the\n",
    "Galactic Center?\n",
    "\n",
    "c. Which of these two measurements do you expect is more accurate? Why?"
   ]
  },
  {
   "cell_type": "code",
   "execution_count": 33,
   "id": "5a649e9b",
   "metadata": {},
   "outputs": [
    {
     "name": "stdout",
     "output_type": "stream",
     "text": [
      "The center of the low-metallicity globular clusters is X= -0.7160955226488761 Y= -0.8757228316832258 Z= -2.471512722728198 .\n",
      "The center of the high-metallicity globular clusters is X= -0.5160735037494624 Y= -0.303029628100699 Z= -1.1759643374558504 .\n",
      "Low-metallicity clusters give a distance of  2.718098308394383 kiloparsecs from the galactic center to the sun.\n",
      "High-metallicity clusters give a distance of  1.3194888933776865 kiloparsecs from the galactic center to the sun.\n"
     ]
    }
   ],
   "source": [
    "pos_av_low_X = sum(df_lessthan['X'])/df_lessthan['X'].size\n",
    "pos_av_low_Y = sum(df_lessthan['Y'])/df_lessthan['Y'].size\n",
    "pos_av_low_Z = sum(df_lessthan['Z'])/df_lessthan['Z'].size\n",
    "\n",
    "pos_av_high_X = sum(df_greaterthan['X'])/df_greaterthan['X'].size\n",
    "pos_av_high_Y = sum(df_greaterthan['Y'])/df_greaterthan['Y'].size\n",
    "pos_av_high_Z = sum(df_greaterthan['Z'])/df_greaterthan['Z'].size\n",
    "\n",
    "print('The center of the low-metallicity globular clusters is X=',pos_av_low_X,'Y=',pos_av_low_Y,'Z=',pos_av_low_Z,'.')\n",
    "print('The center of the high-metallicity globular clusters is X=',pos_av_high_X,'Y=',pos_av_high_Y,'Z=',pos_av_high_Z,'.')\n",
    "\n",
    "r_low = np.sqrt(pos_av_low_X**2+pos_av_low_Y**2+pos_av_low_Z**2)\n",
    "print('Low-metallicity clusters give a distance of ',r_low,'kiloparsecs from the galactic center to the sun.')\n",
    "\n",
    "r_high = np.sqrt(pos_av_high_X**2+pos_av_high_Y**2+pos_av_high_Z**2)\n",
    "print('High-metallicity clusters give a distance of ',r_high,'kiloparsecs from the galactic center to the sun.')"
   ]
  },
  {
   "cell_type": "markdown",
   "id": "81d7c5de",
   "metadata": {},
   "source": [
    "Distances from the galactic center to the sun given by both the low and high metallicity globular clusters are incorrect.  The galactic center is 8 kiloparsecs from the sun.  However, it would seem the low-metallicity globular clusters give a closer value.  This may be because the low-metallicity globular clusters are more in-form with the shape of densitity concentration of our galaxy while the high-metallicty stars are more loosly distributed."
   ]
  },
  {
   "cell_type": "markdown",
   "id": "760b1704",
   "metadata": {},
   "source": [
    "3. Finally, we can use the observed velocities of the globular clusters to get the rotation speed of the Galaxy.\n",
    "\n",
    "    a. Plot Vr (on the y-axis) against l (on the x-axis). Why should you use only the metal-poor\n",
    "    globular clusters for this exercise? You should see a lot of dispersion, but a hint of a\n",
    "    sinusoidal trend. At l=90 the radial velocities are more negative, at l=270 they are more\n",
    "    positive. This is because the globular cluster system isn't rotating. Remember that l=90\n",
    "    points along the direction of rotation; clusters along l=90 are in front of us and we are\n",
    "    moving towards them, so they have a negative (approaching) radial velocity (and vice\n",
    "    versa for the clusters at l=270).\n",
    "\n",
    "    b. You should be able to fit a sine function to the data: $V_r = -V_{c,proj}sin(l)$. Once you have solved for         $V_{c,proj}sin(l)$, remember we have to de-project this value to get the true\n",
    "    rotation speed. Since $V_{c,proj} = V_c<cos(b)>$, averaging over all b's, we have  $V_{c,proj} = (2/pi)V_c$.  Fit this sine curve to the data, and derive Vc, the circular velocity of\n",
    "    the Milky Way. How does your value compare to the \"standard\" value of 220 km/s?\n",
    "\n",
    "<u>Coding Hints</u>\n",
    "You don’t actually have to do a sine fit of $V_r$ versus which would be a complicated non-linear\n",
    "fit. Instead, fit $V_r$ versus $sin(l)$, which is a simple linear fit.\n",
    "\n"
   ]
  },
  {
   "cell_type": "code",
   "execution_count": 39,
   "id": "b643e992",
   "metadata": {},
   "outputs": [
    {
     "name": "stdout",
     "output_type": "stream",
     "text": [
      "[0, 45, 90, 135, 180, 225, 270, 315, 360]\n"
     ]
    },
    {
     "data": {
      "image/png": "[encoded data removed]",
      "text/plain": [
       "<Figure size 640x480 with 1 Axes>"
      ]
     },
     "metadata": {},
     "output_type": "display_data"
    },
    {
     "data": {
      "image/png": "[encoded data removed]",
      "text/plain": [
       "<Figure size 640x480 with 1 Axes>"
      ]
     },
     "metadata": {},
     "output_type": "display_data"
    }
   ],
   "source": [
    "#ticks = [0,45,90,135,180,225,270,315,360]\n",
    "\n",
    "x = np.arange(0, 360, 45)\n",
    "\n",
    "print(ticks)\n",
    "\n",
    "plt.scatter(np.asarray(df_lessthan['l'],float),df_lessthan['vr'],color='red',label='[Fe/H]<-0.8')\n",
    "plt.scatter(np.asarray(df_greaterthan['l'],float),df_greaterthan['vr'],color='m',label='[Fe/H]>-0.8')\n",
    "plt.title('Globular Cluster Velocity as a Function of Radial Angle')\n",
    "plt.xlabel('Degrees')\n",
    "plt.ylabel('Velocity')\n",
    "plt.xticks(x)\n",
    "plt.legend()\n",
    "plt.show()\n",
    "\n",
    "plt.scatter(np.sin(df_lessthan['l_rad']),df_lessthan['vr'])\n",
    "plt.show()"
   ]
  }
 ],
 "metadata": {
  "kernelspec": {
   "display_name": "Python 3 (ipykernel)",
   "language": "python",
   "name": "python3"
  },
  "language_info": {
   "codemirror_mode": {
    "name": "ipython",
    "version": 3
   },
   "file_extension": ".py",
   "mimetype": "text/x-python",
   "name": "python",
   "nbconvert_exporter": "python",
   "pygments_lexer": "ipython3",
   "version": "3.11.1"
  }
 },
 "nbformat": 4,
 "nbformat_minor": 5
}
